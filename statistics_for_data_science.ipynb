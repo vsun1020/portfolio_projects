{
  "nbformat": 4,
  "nbformat_minor": 0,
  "metadata": {
    "colab": {
      "provenance": [],
      "authorship_tag": "ABX9TyMN2Vaetvcq61jHpl8VuIfu",
      "include_colab_link": true
    },
    "kernelspec": {
      "name": "python3",
      "display_name": "Python 3"
    },
    "language_info": {
      "name": "python"
    }
  },
  "cells": [
    {
      "cell_type": "markdown",
      "metadata": {
        "id": "view-in-github",
        "colab_type": "text"
      },
      "source": [
        "<a href=\"https://colab.research.google.com/github/vsun1020/portfolio_projects/blob/main/statistics_for_data_science.ipynb\" target=\"_parent\"><img src=\"https://colab.research.google.com/assets/colab-badge.svg\" alt=\"Open In Colab\"/></a>"
      ]
    },
    {
      "cell_type": "code",
      "execution_count": 2,
      "metadata": {
        "id": "JMaJ1YToCrdp"
      },
      "outputs": [],
      "source": [
        "#import models\n",
        "\n",
        "import pandas as pd\n",
        "import numpy as np\n",
        "import seaborn as sns\n",
        "import matplotlib.pyplot as plt\n",
        "\n",
        "%matplotlib inline"
      ]
    },
    {
      "cell_type": "code",
      "source": [
        "#creating dataset\n",
        "\n",
        "df = pd.DataFrame({'movie': ['a', 'b', 'c', 'a', 'b', 'c', 'a', 'b', 'c'],\n",
        "'rating':[9,7,6,9,5,7,8,9,5]})"
      ],
      "metadata": {
        "id": "4V6wa25-Dkrx"
      },
      "execution_count": 24,
      "outputs": []
    },
    {
      "cell_type": "code",
      "source": [
        "#since I only have one feature, this script is enough to look at mean\n",
        "df.mean()"
      ],
      "metadata": {
        "colab": {
          "base_uri": "https://localhost:8080/"
        },
        "id": "pCg83xubEL6g",
        "outputId": "f697894b-5a50-4e7f-f71c-5cf4f7f2106e"
      },
      "execution_count": 4,
      "outputs": [
        {
          "output_type": "stream",
          "name": "stderr",
          "text": [
            "<ipython-input-4-c61f0c8f89b5>:1: FutureWarning: The default value of numeric_only in DataFrame.mean is deprecated. In a future version, it will default to False. In addition, specifying 'numeric_only=None' is deprecated. Select only valid columns or specify the value of numeric_only to silence this warning.\n",
            "  df.mean()\n"
          ]
        },
        {
          "output_type": "execute_result",
          "data": {
            "text/plain": [
              "rating    7.222222\n",
              "dtype: float64"
            ]
          },
          "metadata": {},
          "execution_count": 4
        }
      ]
    },
    {
      "cell_type": "code",
      "source": [
        "#if i had more than one feature:\n",
        "\n",
        "df.rating.mean()"
      ],
      "metadata": {
        "colab": {
          "base_uri": "https://localhost:8080/"
        },
        "id": "jCChtsO1Enyg",
        "outputId": "0c73e983-d6c4-483b-e5db-fb122ad609ff"
      },
      "execution_count": 5,
      "outputs": [
        {
          "output_type": "execute_result",
          "data": {
            "text/plain": [
              "7.222222222222222"
            ]
          },
          "metadata": {},
          "execution_count": 5
        }
      ]
    },
    {
      "cell_type": "code",
      "source": [
        "#visualizing measures of central tendency\n",
        "\n",
        "sns.displot(df, kde=True, rug=True)\n",
        "plt.axvline(np.mean(df.rating), color='r', linestyle='-')\n",
        "plt.axvline(np.median(df.rating), color='g', linestyle='-')\n",
        "plt.axvline(df.rating.mode().values[0], color='y', linestyle='-')"
      ],
      "metadata": {
        "colab": {
          "base_uri": "https://localhost:8080/",
          "height": 523
        },
        "id": "xUl0X13iEvEz",
        "outputId": "49bcb70c-4b6d-47b6-afe7-6542941bfa80"
      },
      "execution_count": 9,
      "outputs": [
        {
          "output_type": "execute_result",
          "data": {
            "text/plain": [
              "<matplotlib.lines.Line2D at 0x7deac5a09a20>"
            ]
          },
          "metadata": {},
          "execution_count": 9
        },
        {
          "output_type": "display_data",
          "data": {
            "text/plain": [
              "<Figure size 591.375x500 with 1 Axes>"
            ],
            "image/png": "[encoded data removed]"
          },
          "metadata": {}
        }
      ]
    },
    {
      "cell_type": "code",
      "source": [
        "f, (ax_box, ax_hist) = plt.subplots(2, sharex=True,\n",
        "                                    gridspec_kw={'height_ratios':(0.2, 1)})\n",
        "\n",
        "mean = np.mean(df.rating)\n",
        "median = np.median(df.rating)\n",
        "mode = df.rating.mode().values[0]\n",
        "\n",
        "sns.boxplot(data=df, x='rating', ax=ax_box)\n",
        "ax_box.axvline(mean, color='r', linestyle='-')\n",
        "ax_box.axvline(median, color='g', linestyle='-')\n",
        "ax_box.axvline(mode, color='b', linestyle='-')\n",
        "\n",
        "sns.histplot(data=df, x='rating', ax=ax_hist, kde=True)\n",
        "ax_hist.axvline(mean, color='r', linestyle='-', label='Mean')\n",
        "ax_hist.axvline(median, color='g', linestyle='-', label='Median')\n",
        "ax_hist.axvline(mode, color='b', linestyle='-', label='Mode')\n",
        "\n",
        "ax_hist.legend()\n",
        "ax_box.set(xlabel='')\n",
        "plt.show()"
      ],
      "metadata": {
        "colab": {
          "base_uri": "https://localhost:8080/",
          "height": 449
        },
        "id": "oBSDhqvqGXlZ",
        "outputId": "898ead45-7c1d-4c41-d338-7d58890f256e"
      },
      "execution_count": 15,
      "outputs": [
        {
          "output_type": "display_data",
          "data": {
            "text/plain": [
              "<Figure size 640x480 with 2 Axes>"
            ],
            "image/png": "[encoded data removed]"
          },
          "metadata": {}
        }
      ]
    },
    {
      "cell_type": "code",
      "source": [
        "df.rating.var()"
      ],
      "metadata": {
        "colab": {
          "base_uri": "https://localhost:8080/"
        },
        "id": "tvE0IHyTJYLA",
        "outputId": "e188a97a-9e2c-419e-97f5-ea298b6a7e2e"
      },
      "execution_count": 17,
      "outputs": [
        {
          "output_type": "execute_result",
          "data": {
            "text/plain": [
              "2.6944444444444446"
            ]
          },
          "metadata": {},
          "execution_count": 17
        }
      ]
    },
    {
      "cell_type": "code",
      "source": [
        "df.rating.std()"
      ],
      "metadata": {
        "colab": {
          "base_uri": "https://localhost:8080/"
        },
        "id": "C7fRgTo0JhBq",
        "outputId": "08098782-d879-44c5-d87d-0165a0b81ef6"
      },
      "execution_count": 18,
      "outputs": [
        {
          "output_type": "execute_result",
          "data": {
            "text/plain": [
              "1.6414763002993509"
            ]
          },
          "metadata": {},
          "execution_count": 18
        }
      ]
    },
    {
      "cell_type": "code",
      "source": [
        "mean = df.groupby(['movie'])['rating'].mean()\n",
        "std = df.groupby(['movie'])['rating'].std()\n",
        "\n",
        "mean"
      ],
      "metadata": {
        "colab": {
          "base_uri": "https://localhost:8080/"
        },
        "id": "dERy1BViJnQW",
        "outputId": "e3860b47-020c-4efc-c99c-7e6e866bd2c7"
      },
      "execution_count": 21,
      "outputs": [
        {
          "output_type": "execute_result",
          "data": {
            "text/plain": [
              "movie\n",
              "a    8.666667\n",
              "b    7.000000\n",
              "c    6.000000\n",
              "Name: rating, dtype: float64"
            ]
          },
          "metadata": {},
          "execution_count": 21
        }
      ]
    },
    {
      "cell_type": "code",
      "source": [
        "std"
      ],
      "metadata": {
        "colab": {
          "base_uri": "https://localhost:8080/"
        },
        "id": "WvJ7SXodJ-vQ",
        "outputId": "a1a07ff8-7226-45b8-e4a2-298d5674db3f"
      },
      "execution_count": 22,
      "outputs": [
        {
          "output_type": "execute_result",
          "data": {
            "text/plain": [
              "movie\n",
              "a    0.57735\n",
              "b    2.00000\n",
              "c    1.00000\n",
              "Name: rating, dtype: float64"
            ]
          },
          "metadata": {},
          "execution_count": 22
        }
      ]
    },
    {
      "cell_type": "code",
      "source": [
        "fig, ax = plt.subplots()\n",
        "mean.plot.bar(yerr=std, ax=ax, capsize=4)"
      ],
      "metadata": {
        "colab": {
          "base_uri": "https://localhost:8080/",
          "height": 461
        },
        "id": "-ca33cxBKGUr",
        "outputId": "a2a4ee9e-bf16-4147-f084-36db26442289"
      },
      "execution_count": 23,
      "outputs": [
        {
          "output_type": "execute_result",
          "data": {
            "text/plain": [
              "<Axes: xlabel='movie'>"
            ]
          },
          "metadata": {},
          "execution_count": 23
        },
        {
          "output_type": "display_data",
          "data": {
            "text/plain": [
              "<Figure size 640x480 with 1 Axes>"
            ],
            "image/png": "[encoded data removed]"
          },
          "metadata": {}
        }
      ]
    }
  ]
}